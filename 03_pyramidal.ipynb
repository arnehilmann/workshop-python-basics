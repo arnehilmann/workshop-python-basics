{
 "cells": [
  {
   "cell_type": "code",
   "execution_count": null,
   "metadata": {},
   "outputs": [],
   "source": [
    "%%html\n",
    "<link rel=\"stylesheet\" href=\"cc-jupyter.css\"/>"
   ]
  },
  {
   "cell_type": "markdown",
   "metadata": {},
   "source": [
    "# Exercise: square pyramidal number\n",
    "\n",
    "## Task: Find the two numbers that are both square and pyramidal.\n",
    "\n",
    "## Definition: Square\n",
    "\n",
    "A number $n$ with $a * a = n$ (with both $n$ and $a$ positive integers).\n",
    "\n",
    "## Definition: Pyramidal\n",
    "\n",
    "The sum of stacked spheres in a pyramid.\n",
    "\n",
    "``` render_svgbob\n",
    "          *                <~~~~  1 x 1 = 1 \n",
    "         / \\              \n",
    "        / o.\\..  *                            1 + 4 + 9 = 14\n",
    "       /.'   \\ .'                                           \n",
    "      *-------*            <~~~~  2 x 2 = 4                ^\n",
    "     / .o......\\o...   *                                   |           \n",
    "    / o      o  \\    *                        pyramidal ---'\n",
    "   /.'     .'    \\ .'                   \n",
    "  *-------*-------*        <~~~~  3 x 3 = 9 \n",
    "```\n",
    "\n",
    "## Solution\n",
    "\n",
    "<span class=\"hint fragment\">Hint: The first solution is $1$.</span>"
   ]
  },
  {
   "cell_type": "code",
   "execution_count": null,
   "metadata": {},
   "outputs": [],
   "source": []
  }
 ],
 "nbformat": 4,
 "nbformat_minor": 5,
 "metadata": {
  "kernelspec": {
   "name": "python3",
   "display_name": "Python 3",
   "language": "python"
  }
 }
}
