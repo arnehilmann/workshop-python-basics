{
 "cells": [
  {
   "cell_type": "code",
   "execution_count": null,
   "metadata": {},
   "outputs": [],
   "source": [
    "%%html\n",
    "<link rel=\"stylesheet\" href=\"cc-jupyter.css\"/>"
   ]
  },
  {
   "cell_type": "markdown",
   "metadata": {},
   "source": [
    "# Functional Programming\n",
    "\n",
    "## 1. Immutable Data\n",
    "\n",
    "The most straightforward way of avoiding side effects is to use immutable data structures.\n",
    "Use them as often as possible.\n",
    "The namedtuple is a useful replacement for the builtin dict."
   ]
  },
  {
   "cell_type": "code",
   "execution_count": null,
   "metadata": {},
   "outputs": [],
   "source": [
    "from collections import namedtuple\n",
    "\n",
    "# create an immutable dict-like class\n",
    "faux_dict = namedtuple('faux_dict', ['name', 'age'])\n",
    "person = faux_dict(name='Max Mustermann', age=44)"
   ]
  },
  {
   "cell_type": "markdown",
   "metadata": {},
   "source": [
    "access values through dot-notation"
   ]
  },
  {
   "cell_type": "code",
   "execution_count": null,
   "metadata": {},
   "outputs": [],
   "source": [
    "print(person.name)\n",
    "print(person.age)"
   ]
  },
  {
   "cell_type": "markdown",
   "metadata": {},
   "source": [
    "due to immutability, updating a value requires that you copy the entire object."
   ]
  },
  {
   "cell_type": "code",
   "execution_count": null,
   "metadata": {},
   "outputs": [],
   "source": [
    "print(person._replace(age=87))\n",
    "\n",
    "# the original object stays unchanged\n",
    "print(person)"
   ]
  },
  {
   "cell_type": "markdown",
   "metadata": {},
   "source": [
    "## 2. Trade methods for functions\n",
    "\n",
    "Try to treat mutable objects (e.g. lists) just like immutable objects.\n",
    "For this reason, it’s not *Ok* to `sort` a list in-place in FP."
   ]
  },
  {
   "cell_type": "code",
   "execution_count": null,
   "metadata": {},
   "outputs": [],
   "source": [
    "titles = ['Star Wars', '2001', 'Solaris']\n",
    "print(titles)\n",
    "titles.sort()\n",
    "print(titles)   # mutated(iii!)"
   ]
  },
  {
   "cell_type": "markdown",
   "metadata": {},
   "source": [
    "It’s better to use the `sorted` function which returns a copy of the list and avoids mutation."
   ]
  },
  {
   "cell_type": "code",
   "execution_count": null,
   "metadata": {},
   "outputs": [],
   "source": [
    "titles = ['Star Wars', '2001', 'Solaris']\n",
    "print(sorted(titles, key=len))\n",
    "print(titles)"
   ]
  },
  {
   "cell_type": "markdown",
   "metadata": {},
   "source": [
    "Strings are already immutable in Python but functions are still more flexible to use than methods in FP. Each string method is available as a complementary function under the str/unicode class."
   ]
  },
  {
   "cell_type": "code",
   "execution_count": null,
   "metadata": {},
   "outputs": [],
   "source": [
    "titles = 'Star Wars, 2001, Solaris'\n",
    "print(titles.split(','))\n",
    "print(str.split(titles, ','))"
   ]
  },
  {
   "cell_type": "markdown",
   "metadata": {},
   "source": [
    "## 3. map, filter, reduce\n",
    "\n",
    "These three functions are all staple FP functions found in Python.\n",
    "They work on any iterable and always accept a function as the first parameter."
   ]
  },
  {
   "cell_type": "code",
   "execution_count": null,
   "metadata": {},
   "outputs": [],
   "source": [
    "titles = ['    Star Wars ', '2001    ', '  Solaris']\n",
    "list(map(str.strip, titles))"
   ]
  },
  {
   "cell_type": "markdown",
   "metadata": {},
   "source": [
    "In Python-land, map and filter are implemented as list comprehension.\n",
    "So the following expression might be a bit more pythonic:"
   ]
  },
  {
   "cell_type": "code",
   "execution_count": null,
   "metadata": {},
   "outputs": [],
   "source": [
    "[str.strip(title) for title in titles]"
   ]
  },
  {
   "cell_type": "markdown",
   "metadata": {},
   "source": [
    "`map` is lazy and therefore the same as the complementary generator expression."
   ]
  },
  {
   "cell_type": "code",
   "execution_count": null,
   "metadata": {},
   "outputs": [],
   "source": [
    "print((str.strip(title) for title in titles))\n",
    "print(map(str.strip, titles))\n",
    "\n",
    "# iterate over a generator/map to see its content\n",
    "print(list(map(str.strip, titles)))  "
   ]
  },
  {
   "cell_type": "markdown",
   "metadata": {},
   "source": [
    "`filter` is in the same sense nothing more than a list comprehension + a conditional statement."
   ]
  },
  {
   "cell_type": "code",
   "execution_count": null,
   "metadata": {},
   "outputs": [],
   "source": [
    "titles = ['Star Wars', '2001', 'Solaris']\n",
    "\n",
    "def is_one_word(string):\n",
    "    return len(string.split()) == 1\n",
    "\n",
    "print(list(filter(is_one_word, titles)))\n",
    "print([title for title in titles if is_one_word(title)])"
   ]
  },
  {
   "cell_type": "markdown",
   "metadata": {},
   "source": [
    "## 4. Currying\n",
    "\n",
    "-   [Curried](http://toolz.readthedocs.org/en/latest/curry.html)\n",
    "    functions partially evaluates if they do not receive enough arguments to compute a result.\n",
    "\n",
    "-   … is normally accomplished using functools.partial."
   ]
  },
  {
   "cell_type": "code",
   "execution_count": null,
   "metadata": {},
   "outputs": [],
   "source": [
    "%pip install -q toolz"
   ]
  },
  {
   "cell_type": "markdown",
   "metadata": {},
   "source": [
    "[ipython magic\n",
    "commands](https://ipython.readthedocs.io/en/stable/interactive/magics.html)"
   ]
  },
  {
   "cell_type": "code",
   "execution_count": null,
   "metadata": {},
   "outputs": [],
   "source": [
    "from toolz import curry\n",
    "@curry\n",
    "def multiply(first_factor, second_factor):\n",
    "  return first_factor * second_factor\n",
    "\n",
    "double = multiply(2)\n",
    "double(21)"
   ]
  },
  {
   "cell_type": "markdown",
   "metadata": {},
   "source": [
    "## A simple stream reader\n",
    "\n",
    "implement a simple reader for a Tab-delimited stream (or file object).\n",
    "\n",
    "It will be lazy (memory efficient), linear (parallelizable), and easy to comprehend."
   ]
  },
  {
   "cell_type": "code",
   "execution_count": null,
   "metadata": {},
   "outputs": [],
   "source": [
    "# The input is really any iterable, \n",
    "# whether a file object, list, \n",
    "# or generator that spits out lines of text.\n",
    "stream = [\n",
    "  '#time\\tevent\\n',\n",
    "  '003 min\\t\"The Daily Show\" starts       \\n',\n",
    "  '013 min\\t\"Star Wars IV\" airs on TV     \\n',\n",
    "  '105 min\\t\"Monty Python`s Flying Circus\" starts\\n',\n",
    "  '149 min\\tFrogs begin to fall from the sky\\n',\n",
    "]"
   ]
  },
  {
   "cell_type": "markdown",
   "metadata": {},
   "source": [
    "We need to setup a few layer of filters first."
   ]
  },
  {
   "cell_type": "code",
   "execution_count": null,
   "metadata": {},
   "outputs": [],
   "source": [
    "from toolz import curry\n",
    "@curry\n",
    "def is_comment_line(line, prefix='#'):\n",
    "  \"\"\"Check if a string starts with a specified prefix.\"\"\"\n",
    "  return str.startswith(line, prefix)\n",
    "\n",
    "print(is_comment_line('foo'))\n",
    "print(is_comment_line('#bar'))"
   ]
  },
  {
   "cell_type": "markdown",
   "metadata": {},
   "source": [
    "combine to fully working pipeline…"
   ]
  },
  {
   "cell_type": "code",
   "execution_count": null,
   "metadata": {},
   "outputs": [],
   "source": [
    "from toolz import pipe, partial\n",
    "from toolz.curried import complement, map, filter\n",
    "sequence = pipe(\n",
    "  stream,\n",
    "  filter(complement(is_comment_line)),   # filter out comments\n",
    "  map(str.rstrip),                       # strip invisible chars\n",
    "  map(partial(str.split, sep='\\t')),     # split lines\n",
    ")\n",
    "\n",
    "list(sequence)"
   ]
  },
  {
   "cell_type": "markdown",
   "metadata": {},
   "source": [
    "Lazy, linear, and without side effects. Beautiful."
   ]
  }
 ],
 "nbformat": 4,
 "nbformat_minor": 5,
 "metadata": {
  "kernelspec": {
   "name": "python3",
   "display_name": "Python 3",
   "language": "python"
  }
 }
}
