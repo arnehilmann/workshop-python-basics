{
 "cells": [
  {
   "cell_type": "code",
   "execution_count": null,
   "metadata": {},
   "outputs": [],
   "source": [
    "%%html\n",
    "<link rel=\"stylesheet\" href=\"cc-jupyter.css\"/>"
   ]
  },
  {
   "cell_type": "markdown",
   "metadata": {},
   "source": [
    "# List Comprehension\n",
    "\n",
    "## … is a concise way to specify lists.\n",
    "\n",
    "Faster\n",
    "\n",
    "More readable (for parselmouths )\n",
    "\n",
    "[homepage](https://docs.python.org/3/tutorial/datastructures.html#list-comprehensions)\n",
    "\n",
    "## Syntax\n",
    "\n",
    "``` python\n",
    "new_list = [fun(i) for i in old_list if filter(i)]\n",
    "```\n",
    "\n",
    "``` python\n",
    "# before the invention of list comprehension\n",
    "new_list = []\n",
    "for i in old_list:\n",
    "    if filter(i):\n",
    "        new_list.append(fun(i))\n",
    "```\n",
    "\n",
    "## Example"
   ]
  },
  {
   "cell_type": "code",
   "execution_count": null,
   "metadata": {},
   "outputs": [],
   "source": [
    "[x * x for x in range(0, 5)]"
   ]
  },
  {
   "cell_type": "markdown",
   "metadata": {},
   "source": [
    "## Nested"
   ]
  },
  {
   "cell_type": "code",
   "execution_count": null,
   "metadata": {},
   "outputs": [],
   "source": [
    "[\"{}.{}\".format(a, b) \n",
    "    for a in [\"foo\", \"bar\"] \n",
    "    for b in [\"ham\", \"egg\"]]"
   ]
  },
  {
   "cell_type": "markdown",
   "metadata": {},
   "source": [
    "## Conditional"
   ]
  },
  {
   "cell_type": "code",
   "execution_count": null,
   "metadata": {},
   "outputs": [],
   "source": [
    "[(x, y) \n",
    "    for x in range(0, 5) \n",
    "    for y in range(0, 5) \n",
    "    if y < x]"
   ]
  }
 ],
 "nbformat": 4,
 "nbformat_minor": 5,
 "metadata": {
  "kernelspec": {
   "name": "python3",
   "display_name": "Python 3",
   "language": "python"
  }
 }
}
