{
 "cells": [
  {
   "cell_type": "code",
   "execution_count": null,
   "metadata": {},
   "outputs": [],
   "source": [
    "%%html\n",
    "<link rel=\"stylesheet\" href=\"cc-jupyter.css\"/>"
   ]
  },
  {
   "cell_type": "markdown",
   "metadata": {},
   "source": [
    "# Python 101\n",
    "\n",
    "# Datatypes, simple"
   ]
  },
  {
   "cell_type": "code",
   "execution_count": null,
   "metadata": {},
   "outputs": [],
   "source": [
    "print(\"Hello, World!\")\n",
    "print(type(\"Hello, World!\"))"
   ]
  },
  {
   "cell_type": "code",
   "execution_count": null,
   "metadata": {},
   "outputs": [],
   "source": [
    "print(1337)\n",
    "print(type(1337))"
   ]
  },
  {
   "cell_type": "code",
   "execution_count": null,
   "metadata": {},
   "outputs": [],
   "source": [
    "print(4.2)\n",
    "print(type(4.2))"
   ]
  },
  {
   "cell_type": "code",
   "execution_count": null,
   "metadata": {},
   "outputs": [],
   "source": [
    "type(True)"
   ]
  },
  {
   "cell_type": "markdown",
   "metadata": {},
   "source": [
    "# Variables"
   ]
  },
  {
   "cell_type": "code",
   "execution_count": null,
   "metadata": {},
   "outputs": [],
   "source": [
    "n = \"foo\"\n",
    "print(n)"
   ]
  },
  {
   "cell_type": "code",
   "execution_count": null,
   "metadata": {},
   "outputs": [],
   "source": [
    "a = b = c = \"foo\"\n",
    "print(a, b, c)"
   ]
  },
  {
   "cell_type": "code",
   "execution_count": null,
   "metadata": {},
   "outputs": [],
   "source": [
    "n = \"foo\"\n",
    "# n is pointer to object 'foo'\n",
    "m = n\n",
    "# m and n reference the same object\n",
    "m = \"bar\"\n",
    "# m references a new object now\n",
    "n = \"baz\"\n",
    "# object 'foo' will be garbage collected"
   ]
  },
  {
   "cell_type": "markdown",
   "metadata": {},
   "source": [
    "## Operators"
   ]
  },
  {
   "cell_type": "code",
   "execution_count": null,
   "metadata": {},
   "outputs": [],
   "source": [
    "a = 20\n",
    "b = 5\n",
    "c = 2\n",
    "d = 3\n",
    "print(( a + b * c ) / d - 5)"
   ]
  },
  {
   "cell_type": "markdown",
   "metadata": {},
   "source": [
    "## Naming Conventions\n",
    "\n",
    "-   Variables: `snake_case`\n",
    "\n",
    "-   Classes: `CamelCase`\n",
    "\n",
    "``` python\n",
    "my_super_descriptive_variable_name = 42\n",
    "my_class_instance = MyClass()\n",
    "my_method(my_super_descriptive_variable_name)\n",
    "```\n",
    "\n",
    "# Datatypes, structured\n",
    "\n",
    "# Dicts\n",
    "\n",
    "## Definition"
   ]
  },
  {
   "cell_type": "code",
   "execution_count": null,
   "metadata": {},
   "outputs": [],
   "source": [
    "my_dict = {\"foo\": 123, \"bar\": 456}\n",
    "# dict -> universal data structure -> json friendly\n",
    "print(my_dict)"
   ]
  },
  {
   "cell_type": "markdown",
   "metadata": {},
   "source": [
    "## Update"
   ]
  },
  {
   "cell_type": "code",
   "execution_count": null,
   "metadata": {},
   "outputs": [],
   "source": [
    "my_dict[\"baz\"] = 789\n",
    "my_dict.update({\"bax\": 000})\n",
    "\n",
    "print(my_dict)"
   ]
  },
  {
   "cell_type": "markdown",
   "metadata": {},
   "source": [
    "## Access"
   ]
  },
  {
   "cell_type": "code",
   "execution_count": null,
   "metadata": {},
   "outputs": [],
   "source": [
    "if 'bax' in my_dict.keys():  # also my_dict.values() or my_dict.items() \n",
    "    print(my_dict[\"baz\"])"
   ]
  },
  {
   "cell_type": "markdown",
   "metadata": {},
   "source": [
    "## Iteration Order\n",
    "\n",
    "-   Python 3.5: order by underlying hashtable, also see `OrderedDict`\n",
    "\n",
    "-   Python 3.6: [implementation detail of CPython](https://stackoverflow.com/a/39980744)\n",
    "\n",
    "-   Python 3.7: [guaranties insertion order](https://mail.python.org/pipermail/python-dev/2017-December/151283.html)\n",
    "\n",
    "# Lists"
   ]
  },
  {
   "cell_type": "code",
   "execution_count": null,
   "metadata": {},
   "outputs": [],
   "source": [
    "my_list = [1, 3, 2]\n",
    "print(my_list)\n",
    "\n",
    "my_list.append(4)\n",
    "print(my_list)\n",
    "\n",
    "my_list.sort()\n",
    "print(my_list)\n",
    "\n",
    "my_list.reverse()\n",
    "print(my_list)"
   ]
  },
  {
   "cell_type": "markdown",
   "metadata": {},
   "source": [
    "# Strings\n",
    "\n",
    "## Quoting"
   ]
  },
  {
   "cell_type": "code",
   "execution_count": null,
   "metadata": {},
   "outputs": [],
   "source": [
    "print('''Single (') and a double (\") quotes are usable here.''')\n",
    "# This string has a single ('), \n",
    "# a double (\"), and \n",
    "# a surrounding triple quote (''')."
   ]
  },
  {
   "cell_type": "markdown",
   "metadata": {},
   "source": [
    "## f-strings\n",
    "\n",
    "aka [formatted string\n",
    "literals](https://docs.python.org/3.8/reference/lexical_analysis.html#f-strings)"
   ]
  },
  {
   "cell_type": "code",
   "execution_count": null,
   "metadata": {},
   "outputs": [],
   "source": [
    "name = \"Guido\"\n",
    "age = 40"
   ]
  },
  {
   "cell_type": "code",
   "execution_count": null,
   "metadata": {},
   "outputs": [],
   "source": [
    "print(f\"Hello {name}\")\n",
    "print(f\"Age: {age * 2:.2f}\")"
   ]
  },
  {
   "cell_type": "markdown",
   "metadata": {},
   "source": [
    "## Braces in f-strings"
   ]
  },
  {
   "cell_type": "code",
   "execution_count": null,
   "metadata": {},
   "outputs": [],
   "source": [
    "print(f\"{{use double braces}}\")\n",
    "print(f\"{{{{or even more...}}}}\")"
   ]
  },
  {
   "cell_type": "markdown",
   "metadata": {},
   "source": [
    "## .format\n",
    "\n",
    "[format-string\n",
    "syntax](https://docs.python.org/3.8/library/string.html#formatstrings)"
   ]
  },
  {
   "cell_type": "code",
   "execution_count": null,
   "metadata": {},
   "outputs": [],
   "source": [
    "print(\"Hello {}, Age {}\".format(name, age))\n",
    "print(\"Age: {0:+.2f}\".format(age * 2))\n",
    "print(\"Hello {1}, Age: {0:8.0f}\".format(age * 2, name))\n",
    "print(\"Hello {name}\".format(name=name))"
   ]
  },
  {
   "cell_type": "markdown",
   "metadata": {},
   "source": [
    "## %-operator\n",
    "\n",
    "[printf-style](https://docs.python.org/3.8/library/stdtypes.html#printf-style-string-formatting)"
   ]
  },
  {
   "cell_type": "code",
   "execution_count": null,
   "metadata": {},
   "outputs": [],
   "source": [
    "print(\"Hello %s, Age %.2f\" % (name, age))"
   ]
  },
  {
   "cell_type": "markdown",
   "metadata": {},
   "source": [
    "*ooold-school*\n",
    "\n",
    "## Slicing"
   ]
  },
  {
   "cell_type": "code",
   "execution_count": null,
   "metadata": {},
   "outputs": [],
   "source": [
    "my_string = \"Hello World!\"\n",
    "print(my_string[2:])\n",
    "print(my_string[:2])\n",
    "print(my_string[6:11])\n",
    "print(my_string[::-1])\n",
    "print(my_string[:7:2])\n",
    "print(my_string[:6:-2])"
   ]
  },
  {
   "cell_type": "markdown",
   "metadata": {},
   "source": [
    "# Tuples\n",
    "\n",
    "## Slicing"
   ]
  },
  {
   "cell_type": "code",
   "execution_count": null,
   "metadata": {},
   "outputs": [],
   "source": [
    "my_tuple = [1, 2, 3, 4]\n",
    "print(my_tuple[1:3])"
   ]
  },
  {
   "cell_type": "markdown",
   "metadata": {},
   "source": [
    "## immutable: tuple"
   ]
  },
  {
   "cell_type": "code",
   "execution_count": null,
   "metadata": {},
   "outputs": [],
   "source": [
    "my_tuple = (1, 2, 3)\n",
    "my_tuple.append(4)"
   ]
  },
  {
   "cell_type": "markdown",
   "metadata": {},
   "source": [
    "# Sets\n",
    "\n",
    "A mutable structure of immutable elements."
   ]
  },
  {
   "cell_type": "code",
   "execution_count": null,
   "metadata": {},
   "outputs": [],
   "source": [
    "a = {1, 2, 3, 4}\n",
    "b = {4, 5, 6}"
   ]
  },
  {
   "cell_type": "code",
   "execution_count": null,
   "metadata": {},
   "outputs": [],
   "source": [
    "print(a.union(b))\n",
    "print(a.intersection(b))\n",
    "print(a.issubset(b))\n",
    "print({3, 1}.issubset(a))\n",
    "print(a.difference(b))  # a - b"
   ]
  },
  {
   "cell_type": "markdown",
   "metadata": {},
   "source": [
    "# Blocks and Indentation\n",
    "\n",
    "Python uses spaces/tabs for indentation instead of parentheses. See [PEP8](https://www.python.org/dev/peps/pep-0008).\n",
    "\n",
    "## if/else"
   ]
  },
  {
   "cell_type": "code",
   "execution_count": null,
   "metadata": {},
   "outputs": [],
   "source": [
    "a = \"foo\"\n",
    "b = True\n",
    "if \"f\" in a:\n",
    "    print(\"Found 'f'\")\n",
    "else: \n",
    "    print(\"'f' not found\")"
   ]
  },
  {
   "cell_type": "markdown",
   "metadata": {},
   "source": [
    "## if only"
   ]
  },
  {
   "cell_type": "code",
   "execution_count": null,
   "metadata": {},
   "outputs": [],
   "source": [
    "if b:\n",
    "    print(\"b is True\")"
   ]
  },
  {
   "cell_type": "markdown",
   "metadata": {},
   "source": [
    "## logical operators"
   ]
  },
  {
   "cell_type": "code",
   "execution_count": null,
   "metadata": {},
   "outputs": [],
   "source": [
    "if b and a:\n",
    "    print(\"b and a are truthy\")"
   ]
  },
  {
   "cell_type": "markdown",
   "metadata": {},
   "source": [
    "# For-Loops"
   ]
  },
  {
   "cell_type": "code",
   "execution_count": null,
   "metadata": {},
   "outputs": [],
   "source": [
    "my_tuple = [1, 2, 3, 4]\n",
    "for value in my_tuple:\n",
    "    print(f\"value: {value}, \" , end='')"
   ]
  },
  {
   "cell_type": "code",
   "execution_count": null,
   "metadata": {},
   "outputs": [],
   "source": [
    "my_dict = {'foo': 123, 'bar': 456, 'baz': 789}\n",
    "for key, value in my_dict.items():\n",
    "    print(f\"key: {key}, value: {value}, \" , end='')"
   ]
  },
  {
   "cell_type": "code",
   "execution_count": null,
   "metadata": {},
   "outputs": [],
   "source": [
    "for key in my_dict.keys():  # same for my_dict.values()\n",
    "    print(f\"key: {key}, \" , end='')"
   ]
  },
  {
   "cell_type": "code",
   "execution_count": null,
   "metadata": {},
   "outputs": [],
   "source": [
    "for x in range(0, 20, 2):\n",
    "    print(f\"{x}, \" , end='')"
   ]
  },
  {
   "cell_type": "markdown",
   "metadata": {},
   "source": [
    "## Else-Clause\n",
    "\n",
    "… gets executed on non-break, non-empty run."
   ]
  },
  {
   "cell_type": "code",
   "execution_count": null,
   "metadata": {},
   "outputs": [],
   "source": [
    "# factorize integers, find primes\n",
    "for n in range(2, 8):\n",
    "    for x in range(2, n):\n",
    "        if n % x == 0:\n",
    "            print(f\"{n} equals {x} * {n/x:.0f}\")\n",
    "            break\n",
    "    else:\n",
    "        print(f\"{n} is prime.\")"
   ]
  },
  {
   "cell_type": "markdown",
   "metadata": {},
   "source": [
    "# While-Loops"
   ]
  },
  {
   "cell_type": "code",
   "execution_count": null,
   "metadata": {},
   "outputs": [],
   "source": [
    "x = y = 0\n",
    "while x < 10:\n",
    "    x += 2\n",
    "    print(f\"{x}, \" , end='')"
   ]
  },
  {
   "cell_type": "code",
   "execution_count": null,
   "metadata": {},
   "outputs": [],
   "source": [
    "while y < 5:\n",
    "    y += 1\n",
    "    if y == 2:\n",
    "        continue\n",
    "    if y == 4:\n",
    "        break\n",
    "    print(f\"{y}, \" , end='')"
   ]
  },
  {
   "cell_type": "code",
   "execution_count": null,
   "metadata": {},
   "outputs": [],
   "source": [
    "x = y = 0\n",
    "while x < 5:\n",
    "    x += 1\n",
    "    if x == 4:\n",
    "        break\n",
    "    print(f\"{x}, \" , end='')\n",
    "else:\n",
    "    print(f\"loop ended\" , end='')"
   ]
  },
  {
   "cell_type": "code",
   "execution_count": null,
   "metadata": {},
   "outputs": [],
   "source": [
    "while y < 5:\n",
    "    y += 1\n",
    "    print(f\"{y}, \" , end='')\n",
    "else:\n",
    "    print(f\"loop ended\" , end='')"
   ]
  },
  {
   "cell_type": "code",
   "execution_count": null,
   "metadata": {},
   "outputs": [],
   "source": [
    "# Cave: Exit with CTRL+C / CMD+C\n",
    "# while True:\n",
    "#     print(\"foo\")"
   ]
  },
  {
   "cell_type": "markdown",
   "metadata": {},
   "source": [
    "# Functions / Classes / Inheritance"
   ]
  },
  {
   "cell_type": "code",
   "execution_count": null,
   "metadata": {},
   "outputs": [],
   "source": [
    "def my_function():\n",
    "    print(\"Hello World\")\n",
    "\n",
    "my_function()"
   ]
  },
  {
   "cell_type": "code",
   "execution_count": null,
   "metadata": {},
   "outputs": [],
   "source": [
    "another_function = my_function\n",
    "\n",
    "print(my_function.__name__)\n",
    "print(another_function.__name__)"
   ]
  },
  {
   "cell_type": "code",
   "execution_count": null,
   "metadata": {},
   "outputs": [],
   "source": [
    "def my_2nd_function(name, times=1):\n",
    "    print(f\"Hello {name}\\n\" * times)\n",
    "\n",
    "my_2nd_function(\"World\")\n",
    "my_2nd_function(\"Python\", 3)"
   ]
  },
  {
   "cell_type": "code",
   "execution_count": null,
   "metadata": {},
   "outputs": [],
   "source": [
    "def add3(number):\n",
    "    return number + 3\n",
    "\n",
    "add3(5) + add3(1)"
   ]
  },
  {
   "cell_type": "code",
   "execution_count": null,
   "metadata": {},
   "outputs": [],
   "source": [
    "class MyClass:\n",
    "    def __init__(self, foo):\n",
    "        self.foo = foo\n",
    "    def add(self, bar):\n",
    "        return self.foo + bar\n",
    "\n",
    "my_c = MyClass(1234)\n",
    "print(my_c.add(4321))"
   ]
  },
  {
   "cell_type": "markdown",
   "metadata": {},
   "source": [
    "-   `__init__` gets called on Construction\n",
    "\n",
    "-   `methods` are functions, bound to an object (or class)\n",
    "\n",
    "`methods` access “their” object via the first argument"
   ]
  },
  {
   "cell_type": "code",
   "execution_count": null,
   "metadata": {},
   "outputs": [],
   "source": [
    "class MyClass2:\n",
    "    def __init__(bar):\n",
    "        bar.value = 1234\n",
    "    def dump(ham):\n",
    "        print(ham.value)\n",
    "\n",
    "m = MyClass2()\n",
    "m.dump()"
   ]
  },
  {
   "cell_type": "markdown",
   "metadata": {},
   "source": [
    "## self\n",
    "\n",
    "As name for the object, `self` is common in methods.\n",
    "\n",
    "## special methods\n",
    "\n",
    "[](https://www.pythonlikeyoumeanit.com/Module4_OOP/Special_Methods.html)\n",
    "\n",
    "`__init__`\n",
    "\n",
    "`__str__`\n",
    "`__expr__`\n",
    "\n",
    "`__len__`\n",
    "`__getitem__`\n",
    "`__setitem__`\n",
    "`__contains__`\n",
    "`__iter__`\n",
    "`__next__`\n",
    "\n",
    "`__add__`\n",
    "`__sub__`\n",
    "`__mul__`\n",
    "`__truediv__`\n",
    "`__pow__`"
   ]
  },
  {
   "cell_type": "code",
   "execution_count": null,
   "metadata": {},
   "outputs": [],
   "source": [
    "class DontDoThisAtHomeClass:\n",
    "    def __getitem__(self, key):\n",
    "        return [0, 8, 15]\n",
    "\n",
    "    def __pow__(self, other):\n",
    "        return \"that is surprising\"\n",
    "\n",
    "silly = DontDoThisAtHomeClass()\n",
    "print(silly[42])\n",
    "print(silly ** 3)"
   ]
  },
  {
   "cell_type": "code",
   "execution_count": null,
   "metadata": {},
   "outputs": [],
   "source": [
    "# functions / methods / classes are usable objects as well\n",
    "def my_second_method(func):\n",
    "    func()\n",
    "\n",
    "my_second_method(my_function)"
   ]
  },
  {
   "cell_type": "code",
   "execution_count": null,
   "metadata": {},
   "outputs": [],
   "source": [
    "class MyBaseClass:\n",
    "    def __init__(self, foo):\n",
    "        self.foo = foo\n",
    "    def add(self, bar):\n",
    "        return self.foo + bar"
   ]
  },
  {
   "cell_type": "code",
   "execution_count": null,
   "metadata": {},
   "outputs": [],
   "source": [
    "class MyClass(MyBaseClass):\n",
    "    def __init__(self, foo, bar):\n",
    "        super().__init__(foo)\n",
    "        self.bar = bar\n",
    "    def add(self):\n",
    "        return self.foo + self.bar"
   ]
  },
  {
   "cell_type": "code",
   "execution_count": null,
   "metadata": {},
   "outputs": [],
   "source": [
    "my_class = MyClass(2, 3)\n",
    "print(my_class.add())"
   ]
  },
  {
   "cell_type": "markdown",
   "metadata": {},
   "source": [
    "# Type Hints\n",
    "\n",
    "## … can be optionally used at development time."
   ]
  },
  {
   "cell_type": "code",
   "execution_count": null,
   "metadata": {},
   "outputs": [],
   "source": [
    "class MyClass:\n",
    "    def __init__(self, foo: int):\n",
    "        self.foo = foo\n",
    "    def add(self, bar: int):\n",
    "        return self.foo + bar\n",
    "\n",
    "my_class = MyClass(2)\n",
    "print(my_class.add(3))"
   ]
  },
  {
   "cell_type": "code",
   "execution_count": null,
   "metadata": {},
   "outputs": [],
   "source": [
    "print(my_class.add(\"foo\"))"
   ]
  },
  {
   "cell_type": "markdown",
   "metadata": {},
   "source": [
    "# Public vs Protected vs Private\n",
    "\n",
    "“[We are all responsible users](https://docs.python-guide.org/writing/style/#we-are-all-responsible-users)”\n",
    "\n",
    "–\n",
    "docs.python-guide.org/writing/style/\\#we-are-all-responsible-users\n",
    "\n",
    "meaning, `public`, `private`, `protected`\n",
    "[is just](https://www.python.org/dev/peps/pep-0008/#designing-for-inheritance)\n",
    "[a convention](https://stackoverflow.com/questions/1641219/does-python-have-private-variables-in-classes).\n",
    "\n",
    "Enforce this in code reviews and tooling (`pylint`)"
   ]
  },
  {
   "cell_type": "code",
   "execution_count": null,
   "metadata": {},
   "outputs": [],
   "source": [
    "class MyClass:\n",
    "    def __init__(self, foo: int):\n",
    "        self._foo = foo  # protected\n",
    "        self.__bar = foo  # private\n",
    "    def add(self, bar: int):\n",
    "        return self._foo + bar"
   ]
  },
  {
   "cell_type": "code",
   "execution_count": null,
   "metadata": {},
   "outputs": [],
   "source": [
    "my_class = MyClass(2)\n",
    "my_class._foo = 3  # considered protected, but valid \n",
    "my_class.__bar = 3  # considered private, but valid "
   ]
  },
  {
   "cell_type": "markdown",
   "metadata": {},
   "source": [
    "## Modules\n",
    "\n",
    "``` bash\n",
    ".\n",
    "├─ db\n",
    "│  ├─ database.py            <- module: from db.database import session\n",
    "│  ├─ __init__.py            <- marks directory as python package\n",
    "│  └─ tables                 <- subpackage\n",
    "│     ├── authoritytable.py  <- module\n",
    "│     └── __init__.py\n",
    "├─ __init__.py\n",
    "└─ cli.py\n",
    "```\n",
    "\n",
    "`__init__.py` for Python \\< 3.3 and tools still using it.\n",
    "\n",
    "## Hierarchy\n",
    "\n",
    "`package` (directory) \\> `module` (file) \\> `class` / `function`\n",
    "\n",
    "# global\n",
    "\n",
    "## We don’t use `global`!"
   ]
  },
  {
   "cell_type": "code",
   "execution_count": null,
   "metadata": {},
   "outputs": [],
   "source": [
    "i = 1\n",
    "\n",
    "def change0():\n",
    "    i = 2\n",
    "\n",
    "print(i)\n",
    "change0()\n",
    "print(i)"
   ]
  },
  {
   "cell_type": "code",
   "execution_count": null,
   "metadata": {},
   "outputs": [],
   "source": [
    "i = 1\n",
    "\n",
    "def change():\n",
    "    global i\n",
    "    i = 2\n",
    "\n",
    "print(i)\n",
    "change()\n",
    "print(i)"
   ]
  }
 ],
 "nbformat": 4,
 "nbformat_minor": 5,
 "metadata": {
  "kernelspec": {
   "name": "python3",
   "display_name": "Python 3",
   "language": "python"
  }
 }
}
