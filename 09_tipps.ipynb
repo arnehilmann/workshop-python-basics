{
 "cells": [
  {
   "cell_type": "code",
   "execution_count": null,
   "metadata": {},
   "outputs": [],
   "source": [
    "%%html\n",
    "<link rel=\"stylesheet\" href=\"cc-jupyter.css\"/>"
   ]
  },
  {
   "cell_type": "markdown",
   "metadata": {},
   "source": [
    "# Python Tips\n",
    "\n",
    "## Reversing a String"
   ]
  },
  {
   "cell_type": "code",
   "execution_count": null,
   "metadata": {},
   "outputs": [],
   "source": [
    "my_string = \"ABCDE\""
   ]
  },
  {
   "cell_type": "code",
   "execution_count": null,
   "metadata": {},
   "outputs": [],
   "source": [
    "print(my_string[::-1])"
   ]
  },
  {
   "cell_type": "markdown",
   "metadata": {},
   "source": [
    "## deduplicate a list *fast*"
   ]
  },
  {
   "cell_type": "code",
   "execution_count": null,
   "metadata": {},
   "outputs": [],
   "source": [
    "print(set([\"ham\", \"eggs\", \"bacon\", \"ham\"]))"
   ]
  },
  {
   "cell_type": "markdown",
   "metadata": {},
   "source": [
    "## compare lists, differences"
   ]
  },
  {
   "cell_type": "code",
   "execution_count": null,
   "metadata": {},
   "outputs": [],
   "source": [
    "# compare lists to find differences/similarities\n",
    "# {} without \"key\":\"value\" pairs makes a set\n",
    "menu = {\"pancakes\", \"ham\", \"eggs\", \"bacon\"}\n",
    "new_menu = {\"coffee\", \"ham\", \"eggs\", \"bacon\", \"bagels\"}\n",
    "\n",
    "new_items = new_menu.difference(menu)\n",
    "print(\"Try our new\", \", \".join(new_items))\n",
    "\n",
    "discontinued_items = menu.difference(new_menu)\n",
    "print(\"Sorry, we no longer have\", \", \".join(discontinued_items))"
   ]
  },
  {
   "cell_type": "markdown",
   "metadata": {},
   "source": [
    "## compare lists, similarities"
   ]
  },
  {
   "cell_type": "code",
   "execution_count": null,
   "metadata": {},
   "outputs": [],
   "source": [
    "old_items = new_menu.intersection(menu)\n",
    "print(\"Or get the same old\", \", \".join(old_items))\n",
    "\n",
    "full_menu = new_menu.union(menu)\n",
    "print(\"At one time or another, we've served:\", \", \".join(full_menu))"
   ]
  },
  {
   "cell_type": "markdown",
   "metadata": {},
   "source": [
    "## collections.defaultdict: setup\n",
    "\n",
    "or: How to access a `dict` where it’s expected that a key won’t exist initially.\n",
    "or: defaultdict, where any access to an undefined key return an empty list (or any other type)."
   ]
  },
  {
   "cell_type": "code",
   "execution_count": null,
   "metadata": {},
   "outputs": [],
   "source": [
    "from collections import namedtuple, defaultdict\n",
    "\n",
    "Login = namedtuple(\"Login\", (\"user\", \"time\"))\n",
    "logins = [\n",
    "    Login(\"admin\", \"00:12\"), Login(\"bob\", \"07:45\"), Login(\"admin\", \"09:12\")]"
   ]
  },
  {
   "cell_type": "markdown",
   "metadata": {},
   "source": [
    "## collections.defaultdict: old-school"
   ]
  },
  {
   "cell_type": "code",
   "execution_count": null,
   "metadata": {},
   "outputs": [],
   "source": [
    "user2login = {}\n",
    "for t in logins:\n",
    "    if user2login.get(t.user, None):\n",
    "        user2login[t.user].append(t.time)\n",
    "    else:\n",
    "        user2login[t.user] = [t.time]\n",
    "print(user2login)"
   ]
  },
  {
   "cell_type": "markdown",
   "metadata": {},
   "source": [
    "## collections.defaultdict: new-school"
   ]
  },
  {
   "cell_type": "code",
   "execution_count": null,
   "metadata": {},
   "outputs": [],
   "source": [
    "user2login2 = defaultdict(list)\n",
    "for t in logins:\n",
    "    user2login2[t.user].append(t.time)\n",
    "print(user2login2)"
   ]
  },
  {
   "cell_type": "markdown",
   "metadata": {},
   "source": [
    "## Printing n times"
   ]
  },
  {
   "cell_type": "code",
   "execution_count": null,
   "metadata": {},
   "outputs": [],
   "source": [
    "n = 3\n",
    "\n",
    "my_string = \"abcd\"\n",
    "my_list = [1,2,3]\n",
    "\n",
    "print(my_string * n)\n",
    "print(my_list * n)"
   ]
  },
  {
   "cell_type": "markdown",
   "metadata": {},
   "source": [
    "## Swap two Values"
   ]
  },
  {
   "cell_type": "code",
   "execution_count": null,
   "metadata": {},
   "outputs": [],
   "source": [
    "a = 1\n",
    "b = 2\n",
    "a, b = b, a\n",
    "print(a, b)"
   ]
  },
  {
   "cell_type": "markdown",
   "metadata": {},
   "source": [
    "## Enumerate"
   ]
  },
  {
   "cell_type": "code",
   "execution_count": null,
   "metadata": {},
   "outputs": [],
   "source": [
    "my_list = ['a', 'b', 'c', 'd', 'e']\n",
    "\n",
    "for index, value in enumerate(my_list):\n",
    "    print(f'{index}: {value}')"
   ]
  },
  {
   "cell_type": "markdown",
   "metadata": {},
   "source": [
    "## Merging two Dicts"
   ]
  },
  {
   "cell_type": "code",
   "execution_count": null,
   "metadata": {},
   "outputs": [],
   "source": [
    "dict_1 = {'apple': 9, 'banana': 6}\n",
    "dict_2 = {'banana': 4, 'orange': 8}\n",
    "\n",
    "# Values from the second dictionary are used in case of intersections.\n",
    "combined_dict = {**dict_1, **dict_2}\n",
    "\n",
    "print(combined_dict)"
   ]
  }
 ],
 "nbformat": 4,
 "nbformat_minor": 5,
 "metadata": {
  "kernelspec": {
   "name": "python3",
   "display_name": "Python 3",
   "language": "python"
  }
 }
}
