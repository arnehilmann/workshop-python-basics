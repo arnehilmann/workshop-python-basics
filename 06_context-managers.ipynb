{
 "cells": [
  {
   "cell_type": "code",
   "execution_count": null,
   "metadata": {},
   "outputs": [],
   "source": [
    "%%html\n",
    "<link rel=\"stylesheet\" href=\"cc-jupyter.css\"/>"
   ]
  },
  {
   "cell_type": "markdown",
   "metadata": {},
   "source": [
    "# Context Managers\n",
    "\n",
    "## … let you execute two operations as pair, with a block of code in between.\n",
    "\n",
    "or: Creates a context and deconstructs it transparently after usage.\n",
    "\n",
    "## Example\n",
    "\n",
    "``` python\n",
    "with open('hello.txt', 'w') as f:\n",
    "    f.write(\"Moin!\")\n",
    "```\n",
    "\n",
    "``` python\n",
    "# old-school, lots of boilerplate\n",
    "f = open('hello.txt', 'w')\n",
    "try:\n",
    "    f.write('Moin!')\n",
    "finally:\n",
    "    f.close()\n",
    "```\n",
    "\n",
    "## Common Usecases\n",
    "\n",
    "-   locking and unlocking of resources\n",
    "-   closing of opened files\n",
    "\n",
    "## ContextManager as Class"
   ]
  },
  {
   "cell_type": "code",
   "execution_count": null,
   "metadata": {},
   "outputs": [],
   "source": [
    "# our own File implementation\n",
    "class File(object):\n",
    "    def __init__(self, file_name, method):\n",
    "        self.file_obj = open(file_name, method)\n",
    "    def __enter__(self):\n",
    "        return self.file_obj\n",
    "    def __exit__(self, type, value, traceback):\n",
    "        self.file_obj.close()"
   ]
  },
  {
   "cell_type": "markdown",
   "metadata": {},
   "source": [
    "## Sequence, detailed"
   ]
  },
  {
   "cell_type": "code",
   "execution_count": null,
   "metadata": {},
   "outputs": [],
   "source": [
    "with File('/tmp/hello.txt', 'w') as f:\n",
    "    f.write(\"Moin!\")"
   ]
  },
  {
   "cell_type": "markdown",
   "metadata": {},
   "source": [
    "1.  `with` calls `__init__` of File class, creates `f`\n",
    "2.  `with` stores the `__exit__` method of `f`\n",
    "3.  `with` calls `__enter__` of `f`\n",
    "4.  “Moin!” gets written to `f`\n",
    "5.  `with` calls stored `__exit__` method of `f`\n",
    "6.  `__exit__` closes `f`\n",
    "\n",
    "## Exception Handling"
   ]
  },
  {
   "cell_type": "code",
   "execution_count": null,
   "metadata": {},
   "outputs": [],
   "source": [
    "# must fail, because `argh` is undefined\n",
    "with File('/tmp/hello.txt', 'w') as f:\n",
    "    f.argh()"
   ]
  },
  {
   "cell_type": "markdown",
   "metadata": {},
   "source": [
    "When an exception occurs in the code block,\n",
    "its `type`, `value`, and `traceback` gets passed to the `__exit__` method.\n",
    "If `__exit__` returns `True`, the exception does *not* get re-thrown."
   ]
  },
  {
   "cell_type": "code",
   "execution_count": null,
   "metadata": {},
   "outputs": [],
   "source": [
    "class FileGracefull(object):\n",
    "    def __init__(self, file_name, method):\n",
    "        self.file_obj = open(file_name, method)\n",
    "    def __enter__(self):\n",
    "        return self.file_obj\n",
    "    def __exit__(self, type, value, traceback):\n",
    "        if type:\n",
    "            print(f\"An Exception was handled: {value}\")\n",
    "        self.file_obj.close()\n",
    "        return True"
   ]
  },
  {
   "cell_type": "code",
   "execution_count": null,
   "metadata": {},
   "outputs": [],
   "source": [
    "# fails, but handles exception gracefully\n",
    "with FileGracefull('/tmp/hello.txt', 'w') as f:\n",
    "    f.argh()"
   ]
  }
 ],
 "nbformat": 4,
 "nbformat_minor": 5,
 "metadata": {
  "kernelspec": {
   "name": "python3",
   "display_name": "Python 3",
   "language": "python"
  }
 }
}
