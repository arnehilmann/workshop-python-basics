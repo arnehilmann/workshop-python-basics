{
 "cells": [
  {
   "cell_type": "code",
   "execution_count": null,
   "metadata": {},
   "outputs": [],
   "source": [
    "%%html\n",
    "<link rel=\"stylesheet\" href=\"cc-jupyter.css\"/>"
   ]
  },
  {
   "cell_type": "markdown",
   "metadata": {},
   "source": [
    "# Caveats\n",
    "\n",
    "## Defaults are Mutable"
   ]
  },
  {
   "cell_type": "code",
   "execution_count": null,
   "metadata": {},
   "outputs": [],
   "source": [
    "def foo(bar=[]):        # bar optional, defaults to []\n",
    "    bar.append(\"baz\")   # here the problem lurks...\n",
    "    return bar\n",
    "\n",
    "print(foo())\n",
    "print(foo())\n",
    "print(foo())"
   ]
  },
  {
   "cell_type": "markdown",
   "metadata": {},
   "source": [
    "## Defaults are Mutable, Workaround"
   ]
  },
  {
   "cell_type": "code",
   "execution_count": null,
   "metadata": {},
   "outputs": [],
   "source": [
    "def foo(bar=None):\n",
    "    if not bar:\n",
    "        bar = []        # overwrites bar\n",
    "    bar.append(\"baz\")\n",
    "    return bar\n",
    "\n",
    "print(foo())\n",
    "print(foo())\n",
    "print(foo())"
   ]
  },
  {
   "cell_type": "markdown",
   "metadata": {},
   "source": [
    "## Class Variables"
   ]
  },
  {
   "cell_type": "code",
   "execution_count": null,
   "metadata": {},
   "outputs": [],
   "source": [
    "class A(object):\n",
    "    x = 1\n",
    "\n",
    "class B(A):\n",
    "    pass\n",
    "\n",
    "class C(A):\n",
    "    pass\n",
    "\n",
    "print(A.x, B.x, C.x)"
   ]
  },
  {
   "cell_type": "markdown",
   "metadata": {},
   "source": [
    "## … Expected"
   ]
  },
  {
   "cell_type": "code",
   "execution_count": null,
   "metadata": {},
   "outputs": [],
   "source": [
    "B.x = 2\n",
    "print(A.x, B.x, C.x)"
   ]
  },
  {
   "cell_type": "markdown",
   "metadata": {},
   "source": [
    "## … Problem"
   ]
  },
  {
   "cell_type": "code",
   "execution_count": null,
   "metadata": {},
   "outputs": [],
   "source": [
    "A.x = 3\n",
    "print(A.x, B.x, C.x)"
   ]
  },
  {
   "cell_type": "markdown",
   "metadata": {},
   "source": [
    "## … Explanation\n",
    "\n",
    "see [Method Resolution Order,\n",
    "MRO](http://python-history.blogspot.com/2010/06/method-resolution-order.html)\n",
    "\n",
    "`C` has no own `x` member, thus it looks in its base class, `A`, and returns\n",
    "`A.x` effectively!"
   ]
  },
  {
   "cell_type": "code",
   "execution_count": null,
   "metadata": {},
   "outputs": [],
   "source": [
    "print(C.mro())"
   ]
  },
  {
   "cell_type": "markdown",
   "metadata": {},
   "source": [
    "## Scope Rules\n",
    "\n",
    "[Local, Enclosing, Global, Built-in\n",
    "(LEGB)](https://blog.mozilla.org/webdev/2011/01/31/python-scoping-understanding-legb/)\n",
    "\n",
    "## Scope Rules: Example"
   ]
  },
  {
   "cell_type": "code",
   "execution_count": null,
   "metadata": {},
   "outputs": [],
   "source": [
    "x = 10\n",
    "def foo():\n",
    "    x += 1\n",
    "    print(x)"
   ]
  },
  {
   "cell_type": "markdown",
   "metadata": {},
   "source": [
    "## … Problem"
   ]
  },
  {
   "cell_type": "code",
   "execution_count": null,
   "metadata": {},
   "outputs": [],
   "source": [
    "foo()"
   ]
  },
  {
   "cell_type": "markdown",
   "metadata": {},
   "source": [
    "## … Explanation\n",
    "\n",
    "`x += 1` shorthand for `x = x + 1`, therefore `x` gets assigned to and\n",
    "python assumes it to be in `local` scope. *boom*\n",
    "\n",
    "## Scope Rules: Example"
   ]
  },
  {
   "cell_type": "code",
   "execution_count": null,
   "metadata": {},
   "outputs": [],
   "source": [
    "lst = [1, 2, 3]\n",
    "def foo1():\n",
    "    lst.append(5)   # This works ok...\n",
    "\n",
    "foo1()\n",
    "print(lst)"
   ]
  },
  {
   "cell_type": "markdown",
   "metadata": {},
   "source": [
    "## … Problem"
   ]
  },
  {
   "cell_type": "code",
   "execution_count": null,
   "metadata": {},
   "outputs": [],
   "source": [
    "lst = [1, 2, 3]\n",
    "def foo2():\n",
    "    lst += 5        # ... bomb\n",
    "foo2()"
   ]
  },
  {
   "cell_type": "markdown",
   "metadata": {},
   "source": [
    "## … Explanation\n",
    "\n",
    "`lst += 5` shorthand for `lst = lst + 5`, therefore `lst` gets assigned to and\n",
    "python assumes it to be in `local` scope. *boom*\n",
    "\n",
    "## Modifying a list while iterating over it\n",
    "\n",
    "## … wrong"
   ]
  },
  {
   "cell_type": "code",
   "execution_count": null,
   "metadata": {},
   "outputs": [],
   "source": [
    "odd = lambda x : bool(x % 2)\n",
    "numbers = [n for n in range(10)]\n",
    "for i in range(len(numbers)):\n",
    "    if odd(numbers[i]):\n",
    "        del numbers[i]  # BAD: Deleting item from a list while iterating over it"
   ]
  },
  {
   "cell_type": "markdown",
   "metadata": {},
   "source": [
    "## … correct"
   ]
  },
  {
   "cell_type": "code",
   "execution_count": null,
   "metadata": {},
   "outputs": [],
   "source": [
    "odd = lambda x : bool(x % 2)\n",
    "numbers = [n for n in range(10)]\n",
    "numbers[:] = [n for n in numbers if not odd(n)]  # ahh, the beauty of it all\n",
    "numbers"
   ]
  }
 ],
 "nbformat": 4,
 "nbformat_minor": 5,
 "metadata": {
  "kernelspec": {
   "name": "python3",
   "display_name": "Python 3",
   "language": "python"
  }
 }
}
