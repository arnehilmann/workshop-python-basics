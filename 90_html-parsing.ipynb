{
 "cells": [
  {
   "cell_type": "code",
   "execution_count": null,
   "metadata": {},
   "outputs": [],
   "source": [
    "%%html\n",
    "<link rel=\"stylesheet\" href=\"cc-jupyter.css\"/>"
   ]
  },
  {
   "cell_type": "markdown",
   "metadata": {},
   "source": [
    "# HTML Parsing\n",
    "\n",
    "## Some Prerequisites\n",
    "\n",
    "[ipython magic\n",
    "commands](https://ipython.readthedocs.io/en/stable/interactive/magics.html)"
   ]
  },
  {
   "cell_type": "code",
   "execution_count": null,
   "metadata": {},
   "outputs": [],
   "source": [
    "%pip install -q requests lxml cssselect beautifulsoup4\n",
    "\n",
    "doc = ('<html><head><title>Test</title></head>'\n",
    "       '<body><h1>Parse me!</h1>'\n",
    "       '<a href=\"/admin.html\">admin area</a>'\n",
    "       '<a href=\"/help.html\">help pages</a>'\n",
    "       '</body></html>')"
   ]
  },
  {
   "cell_type": "markdown",
   "metadata": {},
   "source": [
    "## html.parser, the standard parser\n",
    "\n",
    "[homepage](https://docs.python.org/3/library/html.parser.html)"
   ]
  },
  {
   "cell_type": "code",
   "execution_count": null,
   "metadata": {},
   "outputs": [],
   "source": [
    "from html.parser import HTMLParser\n",
    "class MyHTMLParser(HTMLParser):\n",
    "    def handle_starttag(self, tag, attrs):\n",
    "        print(f\"start tag '{tag}'\", end=', ')\n",
    "    def handle_endtag(self, tag):\n",
    "        print(f\"end tag '{tag}'\", end=', ')\n",
    "    def handle_data(self, data):\n",
    "        print(f\"data '{data}''\", end=', ')\n",
    "\n",
    "parser = MyHTMLParser()\n",
    "parser.feed(doc)"
   ]
  },
  {
   "cell_type": "markdown",
   "metadata": {},
   "source": [
    "## lxml.html, the fast parser\n",
    "\n",
    "[homepage](https://lxml.de)\n",
    "\n",
    "## lxml, local content"
   ]
  },
  {
   "cell_type": "code",
   "execution_count": null,
   "metadata": {},
   "outputs": [],
   "source": [
    "from lxml.html import etree\n",
    "\n",
    "for a in etree.fromstring(doc).cssselect('a'):\n",
    "    print('%s: %s' % (a.text, a.get('href')))"
   ]
  },
  {
   "cell_type": "markdown",
   "metadata": {},
   "source": [
    "## lxml, external content"
   ]
  },
  {
   "cell_type": "code",
   "execution_count": null,
   "metadata": {},
   "outputs": [],
   "source": [
    "from lxml.html import parse\n",
    "\n",
    "google_doc = parse('http://www.google.com').getroot()\n",
    "for a in google_doc.cssselect('a')[:10]:\n",
    "    print('%s: %s' % (a.text_content(), a.get('href')))"
   ]
  },
  {
   "cell_type": "markdown",
   "metadata": {},
   "source": [
    "## BeautifulSoup, the user-friendly parser\n",
    "\n",
    "[homepage](https://www.crummy.com/software/BeautifulSoup/)\n",
    "\n",
    "## BeautifulSoup, local content"
   ]
  },
  {
   "cell_type": "code",
   "execution_count": null,
   "metadata": {},
   "outputs": [],
   "source": [
    "from bs4 import BeautifulSoup\n",
    "\n",
    "soup = BeautifulSoup(doc)\n",
    "for a in soup.find_all('a'):\n",
    "    print('%s: %s' % (a.get_text(), a.get('href')))"
   ]
  },
  {
   "cell_type": "markdown",
   "metadata": {},
   "source": [
    "## BeautifulSoup, remote content"
   ]
  },
  {
   "cell_type": "code",
   "execution_count": null,
   "metadata": {},
   "outputs": [],
   "source": [
    "from bs4 import BeautifulSoup\n",
    "import requests\n",
    "\n",
    "soup = BeautifulSoup(requests.get('http://www.google.com').text)\n",
    "for a in soup.find_all('a')[:10]:\n",
    "    print('%s: %s' % (a.get_text(), a.get('href')))"
   ]
  },
  {
   "cell_type": "markdown",
   "metadata": {},
   "source": [
    "## Requests, HTTP for Humans\n",
    "\n",
    "[homepage](https://requests.readthedocs.io/en/master/)"
   ]
  },
  {
   "cell_type": "code",
   "execution_count": null,
   "metadata": {},
   "outputs": [],
   "source": [
    "import requests\n",
    "\n",
    "external_doc = requests.get('http://www.google.com')\n",
    "print(external_doc.text[:200], \"...\")"
   ]
  },
  {
   "cell_type": "markdown",
   "metadata": {},
   "source": [
    "## xslt, local content"
   ]
  },
  {
   "cell_type": "code",
   "execution_count": null,
   "metadata": {},
   "outputs": [],
   "source": [
    "import lxml.etree as ET\n",
    "\n",
    "dom = ET.fromstring(doc)\n",
    "xslt = ET.fromstring('''\n",
    "<xsl:stylesheet version=\"1.0\" xmlns:xsl=\"http://www.w3.org/1999/XSL/Transform\">\n",
    "    <xsl:template match=\"/html\">\n",
    "        <xsl:copy>\n",
    "            <xsl:for-each select=\"body/a\">\n",
    "                <p><xsl:value-of select=\"node()\"/>: <xsl:value-of select=\"@href\"/></p>\n",
    "            </xsl:for-each>\n",
    "        </xsl:copy>\n",
    "    </xsl:template>\n",
    "</xsl:stylesheet>\n",
    "''')"
   ]
  },
  {
   "cell_type": "code",
   "execution_count": null,
   "metadata": {},
   "outputs": [],
   "source": [
    "transform = ET.XSLT(xslt)\n",
    "newdom = transform(dom)\n",
    "print(ET.tostring(newdom, pretty_print=True).decode(\"ascii\"))"
   ]
  },
  {
   "cell_type": "markdown",
   "metadata": {},
   "source": [
    "## xslt, real content\n",
    "\n",
    "teleschau_21.10.2020.dat, just one item"
   ]
  },
  {
   "cell_type": "code",
   "execution_count": null,
   "metadata": {},
   "outputs": [],
   "source": [
    "import lxml.etree as ET\n",
    "\n",
    "dom = ET.parse(\"data/teleschau_21.10.2020.dat\")\n",
    "print(ET.tostring(dom, pretty_print=True).decode(\"ascii\")[:1200], \"...\")"
   ]
  },
  {
   "cell_type": "code",
   "execution_count": null,
   "metadata": {},
   "outputs": [],
   "source": [
    "xslt = ET.fromstring('''<?xml version=\"1.0\"?>\n",
    "<xsl:stylesheet version=\"1.0\" xmlns:xsl=\"http://www.w3.org/1999/XSL/Transform\">\n",
    "    <xsl:template match=\"/\">\n",
    "        <artikel-liste>\n",
    "            <xsl:apply-templates select=\"NewsML/NewsItem\"/>\n",
    "        </artikel-liste>\n",
    "    </xsl:template>\n",
    "\n",
    "    <xsl:template match=\"NewsItem\">\n",
    "        <artikel>\n",
    "            <metadaten>\n",
    "                <artikel-id>\n",
    "                    <xsl:value-of select=\"Identification/NewsIdentifier/NewsItemId\"/>\n",
    "                </artikel-id>\n",
    "                <urheberinformation>\n",
    "                    <xsl:value-of select=\"NewsLines/CopyrightLine\"/>\n",
    "                </urheberinformation>\n",
    "                <autor>\n",
    "                    <autor-name>\n",
    "                        <xsl:value-of select=\"NewsLines/ByLine\"/>\n",
    "                    </autor-name>\n",
    "                </autor>\n",
    "            </metadaten>\n",
    "            <inhalt>\n",
    "                <titel-liste>\n",
    "                    <titel>\n",
    "                        <xsl:value-of select=\"NewsLines/HeadLine\"/>\n",
    "                    </titel>\n",
    "                </titel-liste>\n",
    "            </inhalt>\n",
    "        </artikel>\n",
    "    </xsl:template>\n",
    "</xsl:stylesheet>\n",
    "''')"
   ]
  },
  {
   "cell_type": "code",
   "execution_count": null,
   "metadata": {},
   "outputs": [],
   "source": [
    "transform = ET.XSLT(xslt)\n",
    "newdom = transform(dom)\n",
    "print(ET.tostring(newdom, pretty_print=True).decode(\"ascii\"))"
   ]
  }
 ],
 "nbformat": 4,
 "nbformat_minor": 5,
 "metadata": {
  "kernelspec": {
   "name": "python3",
   "display_name": "Python 3",
   "language": "python"
  }
 }
}
