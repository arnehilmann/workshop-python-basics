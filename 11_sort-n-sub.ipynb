{
 "cells": [
  {
   "cell_type": "code",
   "execution_count": null,
   "metadata": {},
   "outputs": [],
   "source": [
    "%%html\n",
    "<link rel=\"stylesheet\" href=\"cc-jupyter.css\"/>"
   ]
  },
  {
   "cell_type": "markdown",
   "metadata": {},
   "source": [
    "# Exercise: sort ‘n’ subtract\n",
    "\n",
    "## Task: What happens, when you …\n",
    "\n",
    "1.  take a random 4-digit number $nr$\n",
    "2.  $nr$ must have at least two different digits (no 1111, 2222, …)\n",
    "3.  sort digits of $nr$ in descending order (getting $m$)\n",
    "4.  sort digits of $nr$ in ascending order (getting $n$)\n",
    "5.  compute $nr = m - n$\n",
    "6.  compare $nr$ with previous $nr$, stop on equal, else jump to 3.\n",
    "\n",
    "## Example\n",
    "\n",
    "1.  $nr = 3524$\n",
    "2.  $m = 5432$\n",
    "3.  $n = 2345$\n",
    "4.  $nr = m - n = 5432 - 2345 = 3087$\n",
    "5.  jump to 2. with $nr = 3087$\n",
    "\n",
    "## Skeleton\n",
    "\n",
    "``` python\n",
    "import random\n",
    "\n",
    "def sort_n_sub(nr: int) -> int:\n",
    "    # that does not implement steps 3 thru 5\n",
    "    return 42\n",
    "\n",
    "def cycle(nr: int):\n",
    "    print(f\"cycle:\", end=\" \")\n",
    "    while True:\n",
    "        last_nr = nr\n",
    "        print(f\"{last_nr:04}\", end=\", \")\n",
    "        nr = sort_n_sub(nr)\n",
    "        # some assertion needed here?!\n",
    "        if nr == last_nr:\n",
    "            break\n",
    "    print()\n",
    "\n",
    "for attempt in range(10):\n",
    "    print(f\"{attempt:4}\", end=\" \")\n",
    "    cycle(random.randint(1, 9999))\n",
    "```\n",
    "\n",
    "## Hints\n",
    "\n",
    "<span class=\"hint fragment\">Hint: a string is list also</span>\n",
    "\n",
    "<span class=\"hint fragment\">Hint: sorted() returns a sorted list</span>\n",
    "\n",
    "<span class=\"hint\">Hint: slice-step -1 reverses a list</span>\n",
    "\n",
    "<span class=\"hint\">Hint: \"\".join(list) concats a list to a str</span>\n",
    "\n",
    "## Solution"
   ]
  },
  {
   "cell_type": "code",
   "execution_count": null,
   "metadata": {},
   "outputs": [],
   "source": []
  },
  {
   "cell_type": "code",
   "execution_count": null,
   "metadata": {},
   "outputs": [],
   "source": []
  },
  {
   "cell_type": "code",
   "execution_count": null,
   "metadata": {},
   "outputs": [],
   "source": []
  },
  {
   "cell_type": "code",
   "execution_count": null,
   "metadata": {},
   "outputs": [],
   "source": []
  }
 ],
 "nbformat": 4,
 "nbformat_minor": 5,
 "metadata": {
  "kernelspec": {
   "name": "python3",
   "display_name": "Python 3",
   "language": "python"
  }
 }
}
